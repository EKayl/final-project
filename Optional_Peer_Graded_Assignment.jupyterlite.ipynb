{
  "metadata": {
    "kernelspec": {
      "name": "python",
      "display_name": "Python (Pyodide)",
      "language": "python"
    },
    "language_info": {
      "codemirror_mode": {
        "name": "python",
        "version": 3
      },
      "file_extension": ".py",
      "mimetype": "text/x-python",
      "name": "python",
      "nbconvert_exporter": "python",
      "pygments_lexer": "ipython3",
      "version": "3.8"
    }
  },
  "nbformat_minor": 4,
  "nbformat": 4,
  "cells": [
    {
      "cell_type": "markdown",
      "source": "<p style=\"text-align:center\">\n    <a href=\"https://skills.network/?utm_medium=Exinfluencer&utm_source=Exinfluencer&utm_content=000026UJ&utm_term=10006555&utm_id=NA-SkillsNetwork-Channel-SkillsNetworkCoursesIBMDeveloperSkillsNetworkST0151ENSkillsNetwork20531532-2022-01-01\" target=\"_blank\">\n    <img src=\"https://cf-courses-data.s3.us.cloud-object-storage.appdomain.cloud/assets/logos/SN_web_lightmode.png\" width=\"200\" alt=\"Skills Network Logo\"  />\n    </a>\n</p>\n\n",
      "metadata": {}
    },
    {
      "cell_type": "markdown",
      "source": "#### Import the required libraries we need for the lab.\n",
      "metadata": {}
    },
    {
      "cell_type": "code",
      "source": "import piplite\nawait piplite.install(['numpy'],['pandas'])\nawait piplite.install(['seaborn'])",
      "metadata": {},
      "outputs": [],
      "execution_count": null
    },
    {
      "cell_type": "code",
      "source": "import pandas as pd\nimport pandas as pd\nimport seaborn as sns\nimport matplotlib.pyplot as pyplot\nimport scipy.stats\nimport statsmodels.api as sm\nfrom statsmodels.formula.api import ols",
      "metadata": {},
      "outputs": [],
      "execution_count": null
    },
    {
      "cell_type": "markdown",
      "source": "#### Read the dataset in the csv file from the URL\n",
      "metadata": {}
    },
    {
      "cell_type": "code",
      "source": "from js import fetch\nimport io\n\nURL = 'https://cf-courses-data.s3.us.cloud-object-storage.appdomain.cloud/IBMDeveloperSkillsNetwork-ST0151EN-SkillsNetwork/labs/boston_housing.csv'\nresp = await fetch(URL)\nboston_url = io.BytesIO((await resp.arrayBuffer()).to_py())",
      "metadata": {},
      "outputs": [],
      "execution_count": null
    },
    {
      "cell_type": "code",
      "source": "boston_df=pd.read_csv(boston_url)",
      "metadata": {},
      "outputs": [],
      "execution_count": null
    },
    {
      "cell_type": "markdown",
      "source": "#### Add your code below following the instructions given in the course to complete the peer graded assignment\n",
      "metadata": {}
    },
    {
      "cell_type": "code",
      "source": "# Importing necessary libraries\nimport pandas as pd\nimport seaborn as sns\nimport matplotlib.pyplot as plt\nfrom scipy.stats import ttest_ind, f_oneway, pearsonr\nimport statsmodels.api as sm\n\n# Load the dataset\nurl = \"https://cf-courses-data.s3.us.cloud-object-storage.appdomain.cloud/IBMDeveloperSkillsNetwork-ST0151EN-SkillsNetwork/labs/boston_housing.csv\"\ndf = pd.read_csv(url)\n\n# Display the first few rows of the dataset\nprint(df.head())\n\n# Task 2: Generate Descriptive Statistics and Visualizations\n\n# Boxplot for the median value of owner-occupied homes (MEDV)\nplt.figure(figsize=(10, 6))\nsns.boxplot(x=df['MEDV'])\nplt.title(\"Boxplot of Median Value of Owner-Occupied Homes\")\nplt.xlabel(\"Median Value ($1000)\")\nplt.show()\n\n# Bar plot for the Charles River variable (CHAS)\nplt.figure(figsize=(10, 6))\nsns.barplot(x=df['CHAS'], y=df['MEDV'], ci=None)\nplt.title(\"Bar Plot of Median Value by Charles River Proximity\")\nplt.xlabel(\"Charles River (1 if bounds river, 0 otherwise)\")\nplt.ylabel(\"Median Value ($1000)\")\nplt.show()\n\n# Boxplot for MEDV by AGE variable\ndf['AGE_GROUP'] = pd.cut(df['AGE'], bins=[0, 35, 70, 100], labels=['<35', '35-70', '>70'])\nplt.figure(figsize=(10, 6))\nsns.boxplot(x='AGE_GROUP', y='MEDV', data=df)\nplt.title(\"Boxplot of Median Value by Age Group\")\nplt.xlabel(\"Age Group\")\nplt.ylabel(\"Median Value ($1000)\")\nplt.show()\n\n# Scatter plot for NOX vs INDUS\nplt.figure(figsize=(10, 6))\nsns.scatterplot(x='NOX', y='INDUS', data=df)\nplt.title(\"Scatter Plot of NOX vs INDUS\")\nplt.xlabel(\"Nitric Oxide Concentration\")\nplt.ylabel(\"Proportion of Non-retail Business Acres\")\nplt.show()\n\n# Histogram for the pupil-teacher ratio (PTRATIO)\nplt.figure(figsize=(10, 6))\nsns.histplot(df['PTRATIO'], bins=15, kde=True)\nplt.title(\"Histogram of Pupil-Teacher Ratio\")\nplt.xlabel(\"Pupil-Teacher Ratio\")\nplt.ylabel(\"Frequency\")\nplt.show()\n\n# Task 3: Use Appropriate Tests to Answer Questions\n\n# 1. T-test for median value difference by Charles River\ncharles_river = df[df['CHAS'] == 1]['MEDV']\nno_charles_river = df[df['CHAS'] == 0]['MEDV']\n\nt_stat, p_val = ttest_ind(charles_river, no_charles_river)\nprint(f\"T-test result: t-statistic = {t_stat}, p-value = {p_val}\")\n\n# 2. ANOVA for median value by AGE groups\nage_groups = [df[df['AGE'] < 35]['MEDV'], df[(df['AGE'] >= 35) & (df['AGE'] <= 70)]['MEDV'], df[df['AGE'] > 70]['MEDV']]\n\nf_stat, p_val = f_oneway(*age_groups)\nprint(f\"ANOVA result: F-statistic = {f_stat}, p-value = {p_val}\")\n\n# 3. Pearson Correlation for NOX and INDUS\ncorr, p_val = pearsonr(df['NOX'], df['INDUS'])\nprint(f\"Pearson Correlation result: correlation coefficient = {corr}, p-value = {p_val}\")\n\n# 4. Regression analysis for DIS and MEDV\nX = df['DIS']\nY = df['MEDV']\n\nX = sm.add_constant(X)  # adding a constant\nmodel = sm.OLS(Y, X).fit()\npredictions = model.predict(X)\n\nprint(model.summary())\n",
      "metadata": {
        "trusted": true
      },
      "outputs": [
        {
          "ename": "<class 'ModuleNotFoundError'>",
          "evalue": "No module named 'seaborn'",
          "traceback": [
            "\u001b[0;31m---------------------------------------------------------------------------\u001b[0m",
            "\u001b[0;31mModuleNotFoundError\u001b[0m                       Traceback (most recent call last)",
            "Cell \u001b[0;32mIn[1], line 3\u001b[0m\n\u001b[1;32m      1\u001b[0m \u001b[38;5;66;03m# Importing necessary libraries\u001b[39;00m\n\u001b[1;32m      2\u001b[0m \u001b[38;5;28;01mimport\u001b[39;00m \u001b[38;5;21;01mpandas\u001b[39;00m \u001b[38;5;28;01mas\u001b[39;00m \u001b[38;5;21;01mpd\u001b[39;00m\n\u001b[0;32m----> 3\u001b[0m \u001b[38;5;28;01mimport\u001b[39;00m \u001b[38;5;21;01mseaborn\u001b[39;00m \u001b[38;5;28;01mas\u001b[39;00m \u001b[38;5;21;01msns\u001b[39;00m\n\u001b[1;32m      4\u001b[0m \u001b[38;5;28;01mimport\u001b[39;00m \u001b[38;5;21;01mmatplotlib\u001b[39;00m\u001b[38;5;21;01m.\u001b[39;00m\u001b[38;5;21;01mpyplot\u001b[39;00m \u001b[38;5;28;01mas\u001b[39;00m \u001b[38;5;21;01mplt\u001b[39;00m\n\u001b[1;32m      5\u001b[0m \u001b[38;5;28;01mfrom\u001b[39;00m \u001b[38;5;21;01mscipy\u001b[39;00m\u001b[38;5;21;01m.\u001b[39;00m\u001b[38;5;21;01mstats\u001b[39;00m \u001b[38;5;28;01mimport\u001b[39;00m ttest_ind, f_oneway, pearsonr\n",
            "\u001b[0;31mModuleNotFoundError\u001b[0m: No module named 'seaborn'"
          ],
          "output_type": "error"
        }
      ],
      "execution_count": 1
    },
    {
      "cell_type": "code",
      "source": "",
      "metadata": {
        "trusted": true
      },
      "outputs": [],
      "execution_count": null
    }
  ]
}